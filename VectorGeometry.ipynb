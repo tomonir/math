{
 "cells": [
  {
   "cell_type": "code",
   "execution_count": 28,
   "id": "1e002ccc",
   "metadata": {},
   "outputs": [],
   "source": [
    "import numpy as np\n",
    "import math"
   ]
  },
  {
   "cell_type": "code",
   "execution_count": 9,
   "id": "0fd01c26",
   "metadata": {},
   "outputs": [
    {
     "data": {
      "image/png": "[encoded data removed]",
      "text/plain": [
       "<Figure size 432x288 with 1 Axes>"
      ]
     },
     "metadata": {
      "needs_background": "light"
     },
     "output_type": "display_data"
    }
   ],
   "source": [
    "def drawTriangle(a,b,c):\n",
    "    x1, y1 = [a[0], b[0]], [a[1], b[1]]\n",
    "    x2, y2 = [b[0], c[0]], [b[1], c[1]]\n",
    "    x3, y3 = [c[0], a[0]], [c[1], a[1]]\n",
    "    plt.plot(x1, y1, x2, y2,x3,y3,  marker = 'o')\n",
    "    plt.show()\n",
    "\n",
    "drawTriangle([3,3],[6,6],[5,2])"
   ]
  },
  {
   "cell_type": "code",
   "execution_count": 74,
   "id": "a2a0153f",
   "metadata": {},
   "outputs": [
    {
     "name": "stdout",
     "output_type": "stream",
     "text": [
      "[0.4472136]\n",
      "63.43494882292201\n"
     ]
    }
   ],
   "source": [
    "\n",
    "def getVectorAngle(av,bv):\n",
    "    \n",
    "    #a*b=|a||b|cost(angle)\n",
    "    ab    = av[0]*bv[0]+av[1]*bv[1]\n",
    "    \n",
    "    MagA  = np.sqrt(av[0]*av[0]+av[1]*av[1])\n",
    "    MagB  = np.sqrt(bv[0]*bv[0]+bv[1]*bv[1])\n",
    "\n",
    "    \n",
    "    angle = ab / (MagA*MagB)\n",
    "            \n",
    "    angleInDegree = math.degrees(math.acos(angle))\n",
    "    \n",
    "    return angleInDegree\n",
    "\n",
    "\n",
    "#direction vector between [3,3] -> [6,6] and [3,3]->[5,2]\n",
    "\n",
    "dv1 = np.array([0,-2])[np.newaxis].T\n",
    "dv2 = np.array([2,-1])[np.newaxis].T\n",
    "\n",
    "\n",
    "print (getVectorAngle(dv1,dv2))\n",
    "\n",
    "    "
   ]
  },
  {
   "cell_type": "markdown",
   "id": "897e205d",
   "metadata": {},
   "source": [
    "### Find is a point is inside a Triangle"
   ]
  },
  {
   "cell_type": "code",
   "execution_count": 84,
   "id": "1a83241b",
   "metadata": {},
   "outputs": [
    {
     "data": {
      "image/png": "[encoded data removed]",
      "text/plain": [
       "<Figure size 432x288 with 1 Axes>"
      ]
     },
     "metadata": {
      "needs_background": "light"
     },
     "output_type": "display_data"
    },
    {
     "name": "stdout",
     "output_type": "stream",
     "text": [
      "[0.31622777]\n",
      "[0.21693046]\n",
      "[0.85749293]\n",
      "[0.89442719]\n",
      "[0.85749293]\n",
      "[0.9701425]\n",
      "71.56505117707799 77.47119229084849 30.96375653207352\n",
      "26.565051177077994 30.963756532073536 14.036243467926457\n",
      "inside\n"
     ]
    },
    {
     "data": {
      "text/plain": [
       "1"
      ]
     },
     "execution_count": 84,
     "metadata": {},
     "output_type": "execute_result"
    }
   ],
   "source": [
    "def isPointInsideTriangle(p,a,b,c):\n",
    "    drawTriangle(a,b,c)\n",
    "    angleABAC = getVectorAngle (np.array(b)[np.newaxis].T- np.array(a)[np.newaxis].T,\n",
    "                                np.array(c)[np.newaxis].T- np.array(a)[np.newaxis].T\n",
    "                               )\n",
    "    angleCACB = getVectorAngle (np.array(a)[np.newaxis].T- np.array(c)[np.newaxis].T,\n",
    "                                np.array(b)[np.newaxis].T- np.array(c)[np.newaxis].T\n",
    "                               )\n",
    "    angleBABC = getVectorAngle (np.array(a)[np.newaxis].T- np.array(b)[np.newaxis].T,\n",
    "                                np.array(c)[np.newaxis].T- np.array(b)[np.newaxis].T\n",
    "                               )\n",
    "        \n",
    "        \n",
    "    angleAPAC = getVectorAngle (np.array(p)[np.newaxis].T- np.array(a)[np.newaxis].T,\n",
    "                                np.array(c)[np.newaxis].T- np.array(a)[np.newaxis].T\n",
    "                               )\n",
    "    \n",
    "    angleCPCB = getVectorAngle (np.array(p)[np.newaxis].T- np.array(c)[np.newaxis].T,\n",
    "                                np.array(b)[np.newaxis].T- np.array(c)[np.newaxis].T\n",
    "                               )\n",
    "    \n",
    "    angleBPBC = getVectorAngle (np.array(p)[np.newaxis].T- np.array(b)[np.newaxis].T,\n",
    "                                np.array(c)[np.newaxis].T- np.array(b)[np.newaxis].T\n",
    "                               )\n",
    "    \n",
    "    print (angleABAC,angleCACB,angleBABC)\n",
    "    \n",
    "    print (angleAPAC,angleCPCB,angleBPBC)\n",
    "    \n",
    "    \n",
    "    if ((angleAPAC< angleABAC) and \n",
    "        (angleCPCB< angleCACB) and\n",
    "        (angleBPBC< angleBABC)):\n",
    "        print (\"inside\")\n",
    "        return 1\n",
    "    else:\n",
    "        print (\"outside\")\n",
    "        return 0\n",
    "    \n",
    "    \n",
    "        \n",
    "    \n",
    "isPointInsideTriangle([6,3],[3,3],[6,6],[5,2])\n",
    "    "
   ]
  },
  {
   "cell_type": "markdown",
   "id": "1e40e46a",
   "metadata": {},
   "source": [
    "### Find intersection between two lines"
   ]
  },
  {
   "cell_type": "code",
   "execution_count": 119,
   "id": "5d2dc881",
   "metadata": {},
   "outputs": [
    {
     "data": {
      "image/png": "[encoded data removed]",
      "text/plain": [
       "<Figure size 432x288 with 1 Axes>"
      ]
     },
     "metadata": {
      "needs_background": "light"
     },
     "output_type": "display_data"
    }
   ],
   "source": [
    "def drawLines(pointspair,points_labels):\n",
    "   \n",
    "    for labels,pair in zip (points_labels ,pointspair):\n",
    "        x_values =[]\n",
    "        y_values =[]\n",
    "        \n",
    "        for label,point in  zip(labels,pair):            \n",
    "            x_values.append(point[0])\n",
    "            y_values.append(point[1])\n",
    "            plt.annotate(label,point)\n",
    "        #print (x_values,y_values)\n",
    "        plt.plot(x_values, y_values)\n",
    "        \n",
    "        \n",
    "        \n",
    "drawLines([([3,3],[6,6]),([5,2],[5,6])], points_labels=[('a','b'),('c','d')])\n",
    "    "
   ]
  },
  {
   "cell_type": "code",
   "execution_count": 107,
   "id": "ca588fc9",
   "metadata": {},
   "outputs": [
    {
     "name": "stdout",
     "output_type": "stream",
     "text": [
      "[-6]\n"
     ]
    }
   ],
   "source": [
    "def getVectorCrossProduct(v1,v2):\n",
    "    return v1[0]*v2[1] - v1[1]*v2[0]\n",
    "\n",
    "\n",
    "v1 = np.array([3,3])[np.newaxis].T\n",
    "v2 = np.array([8,6])[np.newaxis].T\n",
    "print (getVectorCrossProduct(v1,v2))"
   ]
  },
  {
   "cell_type": "code",
   "execution_count": 120,
   "id": "de5f3b67",
   "metadata": {},
   "outputs": [
    {
     "name": "stdout",
     "output_type": "stream",
     "text": [
      "[[5.]\n",
      " [5.]]\n"
     ]
    }
   ],
   "source": [
    "#source 1: https://www.youtube.com/watch?v=WPYTruLFas8\n",
    "#source 2: https://www.youtube.com/watch?v=c065KoXooSw\n",
    "def findIntersection(line1,line2):\n",
    "    a = np.array(line1[0])[np.newaxis].T\n",
    "    b = np.array(line1[1])[np.newaxis].T\n",
    "    \n",
    "    c = np.array(line2[0])[np.newaxis].T\n",
    "    d = np.array(line2[1])[np.newaxis].T\n",
    "    \n",
    "    r = b-a\n",
    "    s = d-c\n",
    "    t = getVectorCrossProduct(c-a,s)/ getVectorCrossProduct(r,s)\n",
    "    \n",
    "    return_b = a + t*r\n",
    "    return return_b\n",
    "print (findIntersection(([3,3],[6,6]), ([5,2],[5,6])))"
   ]
  },
  {
   "cell_type": "markdown",
   "id": "377d792a",
   "metadata": {},
   "source": [
    "### Find shotest distance between a point and line"
   ]
  },
  {
   "cell_type": "code",
   "execution_count": 141,
   "id": "62270948",
   "metadata": {},
   "outputs": [
    {
     "data": {
      "image/png": "[encoded data removed]",
      "text/plain": [
       "<Figure size 432x288 with 1 Axes>"
      ]
     },
     "metadata": {
      "needs_background": "light"
     },
     "output_type": "display_data"
    }
   ],
   "source": [
    "def drawLineAndPoint(pointspair,points_labels,point_todraw):\n",
    "   \n",
    "    for labels,pair in zip (points_labels ,pointspair):\n",
    "        x_values =[]\n",
    "        y_values =[]\n",
    "        \n",
    "        for label,point in  zip(labels,pair):            \n",
    "            x_values.append(point[0])\n",
    "            y_values.append(point[1])\n",
    "            plt.annotate(label,point)\n",
    "        #print (x_values,y_values)\n",
    "        plt.plot(x_values, y_values)\n",
    "        plt.annotate(\"P\",point_todraw)\n",
    "        \n",
    "        \n",
    "        \n",
    "        \n",
    "drawLineAndPoint([([2,3],[6,6])],[('a','b')],[4.5,6])"
   ]
  },
  {
   "cell_type": "code",
   "execution_count": 134,
   "id": "548be77f",
   "metadata": {},
   "outputs": [],
   "source": [
    "def getDotProduct(v1,v2):\n",
    "    return v1[0]*v2[0]+v1[1]*v2[1]"
   ]
  },
  {
   "cell_type": "code",
   "execution_count": 144,
   "id": "eefbbcc9",
   "metadata": {},
   "outputs": [
    {
     "name": "stdout",
     "output_type": "stream",
     "text": [
      "[7.29931504]\n"
     ]
    }
   ],
   "source": [
    "#source 1: https://www.youtube.com/watch?v=0lG53-ogF2k&list=PL7F62CA6A7B7C6783&index=3\n",
    "def findSortestDistance(line,point):\n",
    "    a = np.array(line[0])[np.newaxis].T\n",
    "    b = np.array(line[1])[np.newaxis].T\n",
    "    p = np.array(point)[np.newaxis].T\n",
    "    \n",
    "    da = b-a\n",
    "    k = a-p\n",
    "    \n",
    "    \n",
    "    \n",
    "    t = - getDotProduct(da,k)/getDotProduct(da,da)\n",
    "    intersection_vector = a + t*da\n",
    "    \n",
    "    return np.sqrt(intersection_vector[0]*intersection_vector[0]+intersection_vector[1]*intersection_vector[1])\n",
    "    #print (intersection)\n",
    "    \n",
    "\n",
    "print (findSortestDistance (([2,3],[6,6]),[4.5,6]))   "
   ]
  },
  {
   "cell_type": "code",
   "execution_count": null,
   "id": "1ac98bc0",
   "metadata": {},
   "outputs": [],
   "source": []
  }
 ],
 "metadata": {
  "kernelspec": {
   "display_name": "Python 3 (ipykernel)",
   "language": "python",
   "name": "python3"
  },
  "language_info": {
   "codemirror_mode": {
    "name": "ipython",
    "version": 3
   },
   "file_extension": ".py",
   "mimetype": "text/x-python",
   "name": "python",
   "nbconvert_exporter": "python",
   "pygments_lexer": "ipython3",
   "version": "3.9.12"
  }
 },
 "nbformat": 4,
 "nbformat_minor": 5
}
